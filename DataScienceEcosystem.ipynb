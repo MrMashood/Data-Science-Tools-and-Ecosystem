{
 "cells": [
  {
   "cell_type": "markdown",
   "id": "ed0868e5-c1ae-463e-87b1-eb83acb2091a",
   "metadata": {},
   "source": [
    "# Data Science Tools and Ecosystem"
   ]
  },
  {
   "cell_type": "markdown",
   "id": "00686d73-a216-45db-928e-58a4a391035e",
   "metadata": {},
   "source": [
    "In this notebook, Data Science Tools and Ecosystem are summarized"
   ]
  },
  {
   "cell_type": "markdown",
   "id": "21f3eee6-f7fa-4eaa-bc73-2978216cbd78",
   "metadata": {},
   "source": [
    "# Objectives:\n",
    "\n",
    "- Languages\n",
    "- Libraries,APIs, Data Sets and Models\n",
    "- Jupyter Notebooks and JupyterLab\n",
    "- RStudio & GitHub"
   ]
  },
  {
   "cell_type": "markdown",
   "id": "f9a8fbab-8d14-4dc2-98a5-e7f094c55327",
   "metadata": {},
   "source": [
    "# Some of the popular languages that Data Scientists use are:\n",
    "1. Python\n",
    "2. R\n",
    "3. Julia"
   ]
  },
  {
   "cell_type": "markdown",
   "id": "f1c3af57-0af4-4a68-b69e-4b3b517e00eb",
   "metadata": {},
   "source": [
    "# Some of the commonly used libraries used by Data Scientists include:\n",
    "1. NumPy\n",
    "2. Pandas\n",
    "3. scikit-learn\n",
    "4. PyTorch"
   ]
  },
  {
   "cell_type": "markdown",
   "id": "61570281-fe72-4490-a9cb-cb45f8332e07",
   "metadata": {},
   "source": [
    "# Data Science Tools:\n",
    "1. Jupyter Notebook\n",
    "2. RStudio\n",
    "3. PyCharm"
   ]
  },
  {
   "cell_type": "markdown",
   "id": "da2cb206-1bce-450e-877f-97227dc9c745",
   "metadata": {},
   "source": [
    "# Below are a few examples of evaluating arithmetic expressions in Python"
   ]
  },
  {
   "cell_type": "code",
   "execution_count": 2,
   "id": "aee314d8-3e47-47d0-bbfc-e519017a7d56",
   "metadata": {
    "tags": []
   },
   "outputs": [
    {
     "name": "stdout",
     "output_type": "stream",
     "text": [
      "17\n"
     ]
    }
   ],
   "source": [
    "result = (3 * 4) + 5\n",
    "print(result)"
   ]
  },
  {
   "cell_type": "markdown",
   "id": "c63f3510-ee44-4c28-a842-788a70dcaea1",
   "metadata": {},
   "source": [
    "# Convert minutes to hours"
   ]
  },
  {
   "cell_type": "code",
   "execution_count": 4,
   "id": "d962f518-98d3-4993-ab3f-bb9772476800",
   "metadata": {
    "tags": []
   },
   "outputs": [
    {
     "name": "stdout",
     "output_type": "stream",
     "text": [
      "3.3333333333333335\n"
     ]
    }
   ],
   "source": [
    "minutes = 200\n",
    "hours = minutes / 60\n",
    "print(hours)"
   ]
  },
  {
   "cell_type": "markdown",
   "id": "9352e2f8-ff6f-48de-bba8-072824469cc7",
   "metadata": {},
   "source": [
    "# Author\n",
    "Mashhood ur Rehman"
   ]
  }
 ],
 "metadata": {
  "kernelspec": {
   "display_name": "Python",
   "language": "python",
   "name": "conda-env-python-py"
  },
  "language_info": {
   "codemirror_mode": {
    "name": "ipython",
    "version": 3
   },
   "file_extension": ".py",
   "mimetype": "text/x-python",
   "name": "python",
   "nbconvert_exporter": "python",
   "pygments_lexer": "ipython3",
   "version": "3.7.12"
  }
 },
 "nbformat": 4,
 "nbformat_minor": 5
}
